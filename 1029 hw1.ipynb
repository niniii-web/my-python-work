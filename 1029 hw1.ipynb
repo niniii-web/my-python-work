{
 "cells": [
  {
   "cell_type": "code",
   "execution_count": 1,
   "metadata": {},
   "outputs": [],
   "source": [
    "import random"
   ]
  },
  {
   "cell_type": "code",
   "execution_count": null,
   "metadata": {},
   "outputs": [
    {
     "name": "stdout",
     "output_type": "stream",
     "text": [
      "352+365=? 717\n",
      "答對了！\n",
      "247+40=? 287\n",
      "答對了！\n",
      "1+163=? 165\n",
      "答錯了TT\n"
     ]
    }
   ],
   "source": [
    " for i in range(0,9):\n",
    "        x=random.randint(1,500)\n",
    "        y=random.randint(1,500)\n",
    "        t=float(input(\"{}+{}=? \".format(x,y)))\n",
    "        r=x+y\n",
    "        if t == r:\n",
    "            print(\"答對了！\")\n",
    "        else :\n",
    "            print(\"答錯了TT\")"
   ]
  },
  {
   "cell_type": "code",
   "execution_count": null,
   "metadata": {},
   "outputs": [],
   "source": []
  }
 ],
 "metadata": {
  "kernelspec": {
   "display_name": "Python 3",
   "language": "python",
   "name": "python3"
  },
  "language_info": {
   "codemirror_mode": {
    "name": "ipython",
    "version": 3
   },
   "file_extension": ".py",
   "mimetype": "text/x-python",
   "name": "python",
   "nbconvert_exporter": "python",
   "pygments_lexer": "ipython3",
   "version": "3.7.3"
  }
 },
 "nbformat": 4,
 "nbformat_minor": 2
}
