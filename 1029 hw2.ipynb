{
 "cells": [
  {
   "cell_type": "code",
   "execution_count": 1,
   "metadata": {},
   "outputs": [],
   "source": [
    "from ipywidgets import interact"
   ]
  },
  {
   "cell_type": "code",
   "execution_count": 2,
   "metadata": {},
   "outputs": [],
   "source": [
    "def f(匯率):\n",
    "    print(匯率)"
   ]
  },
  {
   "cell_type": "code",
   "execution_count": 3,
   "metadata": {},
   "outputs": [
    {
     "name": "stdout",
     "output_type": "stream",
     "text": [
      "匯率查詢\n"
     ]
    },
    {
     "data": {
      "application/vnd.jupyter.widget-view+json": {
       "model_id": "17c6287a63b540f7b383bb846b5fa959",
       "version_major": 2,
       "version_minor": 0
      },
      "text/plain": [
       "interactive(children=(Dropdown(description='匯率', options={'美元': '30.775', '英鎊': '40.1', '韓元': '0.02835', '日圓':…"
      ]
     },
     "metadata": {},
     "output_type": "display_data"
    },
    {
     "data": {
      "text/plain": [
       "<function __main__.f(匯率)>"
      ]
     },
     "execution_count": 3,
     "metadata": {},
     "output_type": "execute_result"
    }
   ],
   "source": [
    "print(\"匯率查詢\")\n",
    "interact(f,匯率=dict(美元=(\"30.775\"),\n",
    "                  英鎊=(\"40.1\"),\n",
    "                  韓元=(\"0.02835\"),\n",
    "                  日圓=(\"0.02838\"),\n",
    "                  人民幣=(\"4.387\"),\n",
    "                  港幣=(\"3.938\"),\n",
    "                  澳幣=(\"21.3\"),\n",
    "                  泰幣=(\"1.0743\"),\n",
    "                  歐元=(\"34.33\"),\n",
    "                加拿大幣=(\"23.78\")))"
   ]
  },
  {
   "cell_type": "code",
   "execution_count": null,
   "metadata": {},
   "outputs": [],
   "source": []
  }
 ],
 "metadata": {
  "kernelspec": {
   "display_name": "Python 3",
   "language": "python",
   "name": "python3"
  },
  "language_info": {
   "codemirror_mode": {
    "name": "ipython",
    "version": 3
   },
   "file_extension": ".py",
   "mimetype": "text/x-python",
   "name": "python",
   "nbconvert_exporter": "python",
   "pygments_lexer": "ipython3",
   "version": "3.7.3"
  }
 },
 "nbformat": 4,
 "nbformat_minor": 2
}
