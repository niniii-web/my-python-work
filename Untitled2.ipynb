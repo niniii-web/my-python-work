{
 "cells": [
  {
   "cell_type": "markdown",
   "metadata": {},
   "source": [
    "### 作業二 猜數字"
   ]
  },
  {
   "cell_type": "code",
   "execution_count": 1,
   "metadata": {},
   "outputs": [],
   "source": [
    "%matplotlib inline\n",
    "import numpy as np\n",
    "import matplotlib.pyplot as plt\n",
    "import pandas as pd"
   ]
  },
  {
   "cell_type": "code",
   "execution_count": 2,
   "metadata": {},
   "outputs": [],
   "source": [
    "import random "
   ]
  },
  {
   "cell_type": "code",
   "execution_count": 3,
   "metadata": {},
   "outputs": [
    {
     "name": "stdout",
     "output_type": "stream",
     "text": [
      "在1到200猜個數字吧(*´∀`)~♥\n",
      "猜猜看(ゝ∀･)：67\n",
      "再高一點ㄛ(๑•́ ₃ •̀๑)\n",
      "在1到200猜個數字吧(*´∀`)~♥\n",
      "猜猜看(ゝ∀･)：148\n",
      "再低一點ㄛ(ㆆᴗㆆ)\n",
      "在1到200猜個數字吧(*´∀`)~♥\n",
      "猜猜看(ゝ∀･)：1290\n",
      "再低一點ㄛ(ㆆᴗㆆ)\n",
      "在1到200猜個數字吧(*´∀`)~♥\n",
      "猜猜看(ゝ∀･)：129\n",
      "再低一點ㄛ(ㆆᴗㆆ)\n",
      "在1到200猜個數字吧(*´∀`)~♥\n",
      "猜猜看(ゝ∀･)：110\n",
      "再低一點ㄛ(ㆆᴗㆆ)\n",
      "在1到200猜個數字吧(*´∀`)~♥\n",
      "猜猜看(ゝ∀･)：88\n",
      "再低一點ㄛ(ㆆᴗㆆ)\n",
      "在1到200猜個數字吧(*´∀`)~♥\n",
      "猜猜看(ゝ∀･)：75\n",
      "答對了｡◕∀◕｡\n"
     ]
    }
   ],
   "source": [
    "num=np.random.randint(1,201,1)\n",
    "while True :\n",
    "    print(\"在1到200猜個數字吧(*´∀`)~♥\")\n",
    "    b=input(\"猜猜看(ゝ∀･)：\")\n",
    "    b=int(b)\n",
    "    if  num <b:\n",
    "        print(\"再低一點ㄛ(ㆆᴗㆆ)\")     \n",
    "    elif num >b:\n",
    "        print(\"再高一點ㄛ(๑•́ ₃ •̀๑)\")\n",
    "    else:\n",
    "        print(\"答對了｡◕∀◕｡\")\n",
    "        break\n",
    "\n",
    "\n"
   ]
  },
  {
   "cell_type": "code",
   "execution_count": null,
   "metadata": {},
   "outputs": [],
   "source": []
  }
 ],
 "metadata": {
  "kernelspec": {
   "display_name": "Python 3",
   "language": "python",
   "name": "python3"
  },
  "language_info": {
   "codemirror_mode": {
    "name": "ipython",
    "version": 3
   },
   "file_extension": ".py",
   "mimetype": "text/x-python",
   "name": "python",
   "nbconvert_exporter": "python",
   "pygments_lexer": "ipython3",
   "version": "3.7.3"
  }
 },
 "nbformat": 4,
 "nbformat_minor": 2
}
