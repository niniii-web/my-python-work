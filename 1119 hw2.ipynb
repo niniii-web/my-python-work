{
 "cells": [
  {
   "cell_type": "code",
   "execution_count": 1,
   "metadata": {},
   "outputs": [],
   "source": [
    "%matplotlib inline\n",
    "import numpy as np\n",
    "import matplotlib.pyplot as plt\n",
    "import pandas as pd"
   ]
  },
  {
   "cell_type": "markdown",
   "metadata": {},
   "source": [
    "## 大專校院圖書館統計分析"
   ]
  },
  {
   "cell_type": "code",
   "execution_count": 6,
   "metadata": {},
   "outputs": [],
   "source": [
    "df =pd.read_csv('http://stats.moe.gov.tw/files/detail/103/103_library1.csv')"
   ]
  },
  {
   "cell_type": "code",
   "execution_count": 7,
   "metadata": {},
   "outputs": [
    {
     "data": {
      "text/html": [
       "<div>\n",
       "<style scoped>\n",
       "    .dataframe tbody tr th:only-of-type {\n",
       "        vertical-align: middle;\n",
       "    }\n",
       "\n",
       "    .dataframe tbody tr th {\n",
       "        vertical-align: top;\n",
       "    }\n",
       "\n",
       "    .dataframe thead th {\n",
       "        text-align: right;\n",
       "    }\n",
       "</style>\n",
       "<table border=\"1\" class=\"dataframe\">\n",
       "  <thead>\n",
       "    <tr style=\"text-align: right;\">\n",
       "      <th></th>\n",
       "      <th>項目</th>\n",
       "      <th>公立大學及獨立學院</th>\n",
       "      <th>私立大學及獨立學院</th>\n",
       "      <th>公立專科學校</th>\n",
       "      <th>私立專科學校</th>\n",
       "    </tr>\n",
       "  </thead>\n",
       "  <tbody>\n",
       "    <tr>\n",
       "      <th>0</th>\n",
       "      <td>中文圖書收藏冊數(冊)-總類</td>\n",
       "      <td>2490797</td>\n",
       "      <td>1776729</td>\n",
       "      <td>8123</td>\n",
       "      <td>33152</td>\n",
       "    </tr>\n",
       "    <tr>\n",
       "      <th>1</th>\n",
       "      <td>中文圖書收藏冊數(冊)-哲學類</td>\n",
       "      <td>953253</td>\n",
       "      <td>1495303</td>\n",
       "      <td>12714</td>\n",
       "      <td>95601</td>\n",
       "    </tr>\n",
       "    <tr>\n",
       "      <th>2</th>\n",
       "      <td>中文圖書收藏冊數(冊)-宗教類</td>\n",
       "      <td>434976</td>\n",
       "      <td>727784</td>\n",
       "      <td>3159</td>\n",
       "      <td>35269</td>\n",
       "    </tr>\n",
       "    <tr>\n",
       "      <th>3</th>\n",
       "      <td>中文圖書收藏冊數(冊)-科學類</td>\n",
       "      <td>1310973</td>\n",
       "      <td>2331849</td>\n",
       "      <td>13689</td>\n",
       "      <td>92813</td>\n",
       "    </tr>\n",
       "    <tr>\n",
       "      <th>4</th>\n",
       "      <td>中文圖書收藏冊數(冊)-應用科學類</td>\n",
       "      <td>2525607</td>\n",
       "      <td>4803848</td>\n",
       "      <td>41589</td>\n",
       "      <td>275011</td>\n",
       "    </tr>\n",
       "    <tr>\n",
       "      <th>5</th>\n",
       "      <td>中文圖書收藏冊數(冊)-社會科學類</td>\n",
       "      <td>4078831</td>\n",
       "      <td>4491970</td>\n",
       "      <td>21944</td>\n",
       "      <td>173447</td>\n",
       "    </tr>\n",
       "    <tr>\n",
       "      <th>6</th>\n",
       "      <td>中文圖書收藏冊數(冊)-史地類</td>\n",
       "      <td>2143117</td>\n",
       "      <td>2149329</td>\n",
       "      <td>15025</td>\n",
       "      <td>85182</td>\n",
       "    </tr>\n",
       "    <tr>\n",
       "      <th>7</th>\n",
       "      <td>中文圖書收藏冊數(冊)-語言文學類</td>\n",
       "      <td>3449742</td>\n",
       "      <td>4929628</td>\n",
       "      <td>35722</td>\n",
       "      <td>280479</td>\n",
       "    </tr>\n",
       "    <tr>\n",
       "      <th>8</th>\n",
       "      <td>中文圖書收藏冊數(冊)-藝術類</td>\n",
       "      <td>1239388</td>\n",
       "      <td>1675309</td>\n",
       "      <td>11013</td>\n",
       "      <td>69164</td>\n",
       "    </tr>\n",
       "    <tr>\n",
       "      <th>9</th>\n",
       "      <td>外文圖書收藏冊數(冊)</td>\n",
       "      <td>9082788</td>\n",
       "      <td>6935596</td>\n",
       "      <td>8250</td>\n",
       "      <td>148036</td>\n",
       "    </tr>\n",
       "    <tr>\n",
       "      <th>10</th>\n",
       "      <td>電子書(種)</td>\n",
       "      <td>25581674</td>\n",
       "      <td>31571544</td>\n",
       "      <td>13703</td>\n",
       "      <td>249555</td>\n",
       "    </tr>\n",
       "    <tr>\n",
       "      <th>11</th>\n",
       "      <td>圖書閱覽座位數(個)</td>\n",
       "      <td>50087</td>\n",
       "      <td>81612</td>\n",
       "      <td>228</td>\n",
       "      <td>3746</td>\n",
       "    </tr>\n",
       "    <tr>\n",
       "      <th>12</th>\n",
       "      <td>圖書借閱人次(人次)</td>\n",
       "      <td>2911999</td>\n",
       "      <td>3962646</td>\n",
       "      <td>9817</td>\n",
       "      <td>151332</td>\n",
       "    </tr>\n",
       "    <tr>\n",
       "      <th>13</th>\n",
       "      <td>圖書借閱冊數(冊)</td>\n",
       "      <td>8681851</td>\n",
       "      <td>10886192</td>\n",
       "      <td>23354</td>\n",
       "      <td>401163</td>\n",
       "    </tr>\n",
       "    <tr>\n",
       "      <th>14</th>\n",
       "      <td>線上及光碟資料庫檢索人次(人次)</td>\n",
       "      <td>87620765</td>\n",
       "      <td>43393790</td>\n",
       "      <td>79205</td>\n",
       "      <td>3214347</td>\n",
       "    </tr>\n",
       "  </tbody>\n",
       "</table>\n",
       "</div>"
      ],
      "text/plain": [
       "                   項目  公立大學及獨立學院  私立大學及獨立學院  公立專科學校   私立專科學校\n",
       "0      中文圖書收藏冊數(冊)-總類    2490797    1776729    8123    33152\n",
       "1     中文圖書收藏冊數(冊)-哲學類     953253    1495303   12714    95601\n",
       "2     中文圖書收藏冊數(冊)-宗教類     434976     727784    3159    35269\n",
       "3     中文圖書收藏冊數(冊)-科學類    1310973    2331849   13689    92813\n",
       "4   中文圖書收藏冊數(冊)-應用科學類    2525607    4803848   41589   275011\n",
       "5   中文圖書收藏冊數(冊)-社會科學類    4078831    4491970   21944   173447\n",
       "6     中文圖書收藏冊數(冊)-史地類    2143117    2149329   15025    85182\n",
       "7   中文圖書收藏冊數(冊)-語言文學類    3449742    4929628   35722   280479\n",
       "8     中文圖書收藏冊數(冊)-藝術類    1239388    1675309   11013    69164\n",
       "9         外文圖書收藏冊數(冊)    9082788    6935596    8250   148036\n",
       "10             電子書(種)   25581674   31571544   13703   249555\n",
       "11         圖書閱覽座位數(個)      50087      81612     228     3746\n",
       "12         圖書借閱人次(人次)    2911999    3962646    9817   151332\n",
       "13          圖書借閱冊數(冊)    8681851   10886192   23354   401163\n",
       "14   線上及光碟資料庫檢索人次(人次)   87620765   43393790   79205  3214347"
      ]
     },
     "execution_count": 7,
     "metadata": {},
     "output_type": "execute_result"
    }
   ],
   "source": [
    "df"
   ]
  },
  {
   "cell_type": "code",
   "execution_count": 8,
   "metadata": {},
   "outputs": [
    {
     "data": {
      "text/plain": [
       "15"
      ]
     },
     "execution_count": 8,
     "metadata": {},
     "output_type": "execute_result"
    }
   ],
   "source": [
    "len(df)"
   ]
  },
  {
   "cell_type": "code",
   "execution_count": 9,
   "metadata": {},
   "outputs": [
    {
     "data": {
      "text/html": [
       "<div>\n",
       "<style scoped>\n",
       "    .dataframe tbody tr th:only-of-type {\n",
       "        vertical-align: middle;\n",
       "    }\n",
       "\n",
       "    .dataframe tbody tr th {\n",
       "        vertical-align: top;\n",
       "    }\n",
       "\n",
       "    .dataframe thead th {\n",
       "        text-align: right;\n",
       "    }\n",
       "</style>\n",
       "<table border=\"1\" class=\"dataframe\">\n",
       "  <thead>\n",
       "    <tr style=\"text-align: right;\">\n",
       "      <th></th>\n",
       "      <th>項目</th>\n",
       "      <th>公立大學及獨立學院</th>\n",
       "      <th>私立大學及獨立學院</th>\n",
       "      <th>公立專科學校</th>\n",
       "      <th>私立專科學校</th>\n",
       "    </tr>\n",
       "  </thead>\n",
       "  <tbody>\n",
       "    <tr>\n",
       "      <th>0</th>\n",
       "      <td>中文圖書收藏冊數(冊)-總類</td>\n",
       "      <td>2490797</td>\n",
       "      <td>1776729</td>\n",
       "      <td>8123</td>\n",
       "      <td>33152</td>\n",
       "    </tr>\n",
       "    <tr>\n",
       "      <th>1</th>\n",
       "      <td>中文圖書收藏冊數(冊)-哲學類</td>\n",
       "      <td>953253</td>\n",
       "      <td>1495303</td>\n",
       "      <td>12714</td>\n",
       "      <td>95601</td>\n",
       "    </tr>\n",
       "    <tr>\n",
       "      <th>2</th>\n",
       "      <td>中文圖書收藏冊數(冊)-宗教類</td>\n",
       "      <td>434976</td>\n",
       "      <td>727784</td>\n",
       "      <td>3159</td>\n",
       "      <td>35269</td>\n",
       "    </tr>\n",
       "    <tr>\n",
       "      <th>3</th>\n",
       "      <td>中文圖書收藏冊數(冊)-科學類</td>\n",
       "      <td>1310973</td>\n",
       "      <td>2331849</td>\n",
       "      <td>13689</td>\n",
       "      <td>92813</td>\n",
       "    </tr>\n",
       "    <tr>\n",
       "      <th>4</th>\n",
       "      <td>中文圖書收藏冊數(冊)-應用科學類</td>\n",
       "      <td>2525607</td>\n",
       "      <td>4803848</td>\n",
       "      <td>41589</td>\n",
       "      <td>275011</td>\n",
       "    </tr>\n",
       "  </tbody>\n",
       "</table>\n",
       "</div>"
      ],
      "text/plain": [
       "                  項目  公立大學及獨立學院  私立大學及獨立學院  公立專科學校  私立專科學校\n",
       "0     中文圖書收藏冊數(冊)-總類    2490797    1776729    8123   33152\n",
       "1    中文圖書收藏冊數(冊)-哲學類     953253    1495303   12714   95601\n",
       "2    中文圖書收藏冊數(冊)-宗教類     434976     727784    3159   35269\n",
       "3    中文圖書收藏冊數(冊)-科學類    1310973    2331849   13689   92813\n",
       "4  中文圖書收藏冊數(冊)-應用科學類    2525607    4803848   41589  275011"
      ]
     },
     "execution_count": 9,
     "metadata": {},
     "output_type": "execute_result"
    }
   ],
   "source": [
    "df.head()"
   ]
  },
  {
   "cell_type": "markdown",
   "metadata": {},
   "source": [
    "## 刪除指定數據"
   ]
  },
  {
   "cell_type": "code",
   "execution_count": 11,
   "metadata": {},
   "outputs": [],
   "source": [
    "df=df.drop(\"私立專科學校\",axis=1)"
   ]
  },
  {
   "cell_type": "code",
   "execution_count": 12,
   "metadata": {},
   "outputs": [
    {
     "data": {
      "text/html": [
       "<div>\n",
       "<style scoped>\n",
       "    .dataframe tbody tr th:only-of-type {\n",
       "        vertical-align: middle;\n",
       "    }\n",
       "\n",
       "    .dataframe tbody tr th {\n",
       "        vertical-align: top;\n",
       "    }\n",
       "\n",
       "    .dataframe thead th {\n",
       "        text-align: right;\n",
       "    }\n",
       "</style>\n",
       "<table border=\"1\" class=\"dataframe\">\n",
       "  <thead>\n",
       "    <tr style=\"text-align: right;\">\n",
       "      <th></th>\n",
       "      <th>項目</th>\n",
       "      <th>公立大學及獨立學院</th>\n",
       "      <th>私立大學及獨立學院</th>\n",
       "      <th>公立專科學校</th>\n",
       "    </tr>\n",
       "  </thead>\n",
       "  <tbody>\n",
       "    <tr>\n",
       "      <th>0</th>\n",
       "      <td>中文圖書收藏冊數(冊)-總類</td>\n",
       "      <td>2490797</td>\n",
       "      <td>1776729</td>\n",
       "      <td>8123</td>\n",
       "    </tr>\n",
       "    <tr>\n",
       "      <th>1</th>\n",
       "      <td>中文圖書收藏冊數(冊)-哲學類</td>\n",
       "      <td>953253</td>\n",
       "      <td>1495303</td>\n",
       "      <td>12714</td>\n",
       "    </tr>\n",
       "    <tr>\n",
       "      <th>2</th>\n",
       "      <td>中文圖書收藏冊數(冊)-宗教類</td>\n",
       "      <td>434976</td>\n",
       "      <td>727784</td>\n",
       "      <td>3159</td>\n",
       "    </tr>\n",
       "    <tr>\n",
       "      <th>3</th>\n",
       "      <td>中文圖書收藏冊數(冊)-科學類</td>\n",
       "      <td>1310973</td>\n",
       "      <td>2331849</td>\n",
       "      <td>13689</td>\n",
       "    </tr>\n",
       "    <tr>\n",
       "      <th>4</th>\n",
       "      <td>中文圖書收藏冊數(冊)-應用科學類</td>\n",
       "      <td>2525607</td>\n",
       "      <td>4803848</td>\n",
       "      <td>41589</td>\n",
       "    </tr>\n",
       "  </tbody>\n",
       "</table>\n",
       "</div>"
      ],
      "text/plain": [
       "                  項目  公立大學及獨立學院  私立大學及獨立學院  公立專科學校\n",
       "0     中文圖書收藏冊數(冊)-總類    2490797    1776729    8123\n",
       "1    中文圖書收藏冊數(冊)-哲學類     953253    1495303   12714\n",
       "2    中文圖書收藏冊數(冊)-宗教類     434976     727784    3159\n",
       "3    中文圖書收藏冊數(冊)-科學類    1310973    2331849   13689\n",
       "4  中文圖書收藏冊數(冊)-應用科學類    2525607    4803848   41589"
      ]
     },
     "execution_count": 12,
     "metadata": {},
     "output_type": "execute_result"
    }
   ],
   "source": [
    "df.head()"
   ]
  },
  {
   "cell_type": "markdown",
   "metadata": {},
   "source": [
    "## 公立專科學校收藏冊數最多的種類"
   ]
  },
  {
   "cell_type": "code",
   "execution_count": 13,
   "metadata": {},
   "outputs": [
    {
     "data": {
      "text/html": [
       "<div>\n",
       "<style scoped>\n",
       "    .dataframe tbody tr th:only-of-type {\n",
       "        vertical-align: middle;\n",
       "    }\n",
       "\n",
       "    .dataframe tbody tr th {\n",
       "        vertical-align: top;\n",
       "    }\n",
       "\n",
       "    .dataframe thead th {\n",
       "        text-align: right;\n",
       "    }\n",
       "</style>\n",
       "<table border=\"1\" class=\"dataframe\">\n",
       "  <thead>\n",
       "    <tr style=\"text-align: right;\">\n",
       "      <th></th>\n",
       "      <th>項目</th>\n",
       "      <th>公立大學及獨立學院</th>\n",
       "      <th>私立大學及獨立學院</th>\n",
       "      <th>公立專科學校</th>\n",
       "    </tr>\n",
       "  </thead>\n",
       "  <tbody>\n",
       "    <tr>\n",
       "      <th>14</th>\n",
       "      <td>線上及光碟資料庫檢索人次(人次)</td>\n",
       "      <td>87620765</td>\n",
       "      <td>43393790</td>\n",
       "      <td>79205</td>\n",
       "    </tr>\n",
       "  </tbody>\n",
       "</table>\n",
       "</div>"
      ],
      "text/plain": [
       "                  項目  公立大學及獨立學院  私立大學及獨立學院  公立專科學校\n",
       "14  線上及光碟資料庫檢索人次(人次)   87620765   43393790   79205"
      ]
     },
     "execution_count": 13,
     "metadata": {},
     "output_type": "execute_result"
    }
   ],
   "source": [
    "df[df['公立專科學校']==df['公立專科學校'].max()]"
   ]
  },
  {
   "cell_type": "markdown",
   "metadata": {},
   "source": [
    "## 公立大學及獨立學院收藏冊數最少的五個種類"
   ]
  },
  {
   "cell_type": "code",
   "execution_count": 15,
   "metadata": {},
   "outputs": [],
   "source": [
    "df_sorted=df.sort_values(by=[\"公立大學及獨立學院\"],ascending=False)"
   ]
  },
  {
   "cell_type": "code",
   "execution_count": 16,
   "metadata": {},
   "outputs": [
    {
     "data": {
      "text/html": [
       "<div>\n",
       "<style scoped>\n",
       "    .dataframe tbody tr th:only-of-type {\n",
       "        vertical-align: middle;\n",
       "    }\n",
       "\n",
       "    .dataframe tbody tr th {\n",
       "        vertical-align: top;\n",
       "    }\n",
       "\n",
       "    .dataframe thead th {\n",
       "        text-align: right;\n",
       "    }\n",
       "</style>\n",
       "<table border=\"1\" class=\"dataframe\">\n",
       "  <thead>\n",
       "    <tr style=\"text-align: right;\">\n",
       "      <th></th>\n",
       "      <th>項目</th>\n",
       "      <th>公立大學及獨立學院</th>\n",
       "      <th>私立大學及獨立學院</th>\n",
       "      <th>公立專科學校</th>\n",
       "    </tr>\n",
       "  </thead>\n",
       "  <tbody>\n",
       "    <tr>\n",
       "      <th>10</th>\n",
       "      <td>電子書(種)</td>\n",
       "      <td>25581674</td>\n",
       "      <td>31571544</td>\n",
       "      <td>13703</td>\n",
       "    </tr>\n",
       "    <tr>\n",
       "      <th>11</th>\n",
       "      <td>圖書閱覽座位數(個)</td>\n",
       "      <td>50087</td>\n",
       "      <td>81612</td>\n",
       "      <td>228</td>\n",
       "    </tr>\n",
       "    <tr>\n",
       "      <th>12</th>\n",
       "      <td>圖書借閱人次(人次)</td>\n",
       "      <td>2911999</td>\n",
       "      <td>3962646</td>\n",
       "      <td>9817</td>\n",
       "    </tr>\n",
       "    <tr>\n",
       "      <th>13</th>\n",
       "      <td>圖書借閱冊數(冊)</td>\n",
       "      <td>8681851</td>\n",
       "      <td>10886192</td>\n",
       "      <td>23354</td>\n",
       "    </tr>\n",
       "    <tr>\n",
       "      <th>14</th>\n",
       "      <td>線上及光碟資料庫檢索人次(人次)</td>\n",
       "      <td>87620765</td>\n",
       "      <td>43393790</td>\n",
       "      <td>79205</td>\n",
       "    </tr>\n",
       "  </tbody>\n",
       "</table>\n",
       "</div>"
      ],
      "text/plain": [
       "                  項目  公立大學及獨立學院  私立大學及獨立學院  公立專科學校\n",
       "10            電子書(種)   25581674   31571544   13703\n",
       "11        圖書閱覽座位數(個)      50087      81612     228\n",
       "12        圖書借閱人次(人次)    2911999    3962646    9817\n",
       "13         圖書借閱冊數(冊)    8681851   10886192   23354\n",
       "14  線上及光碟資料庫檢索人次(人次)   87620765   43393790   79205"
      ]
     },
     "execution_count": 16,
     "metadata": {},
     "output_type": "execute_result"
    }
   ],
   "source": [
    "df.tail()"
   ]
  },
  {
   "cell_type": "markdown",
   "metadata": {},
   "source": [
    "## 資料繪圖"
   ]
  },
  {
   "cell_type": "code",
   "execution_count": 19,
   "metadata": {},
   "outputs": [
    {
     "data": {
      "text/plain": [
       "(<matplotlib.axes._subplots.AxesSubplot at 0x1153c5b00>,\n",
       " <matplotlib.axes._subplots.AxesSubplot at 0x1153c5b00>,\n",
       " <matplotlib.axes._subplots.AxesSubplot at 0x1153c5b00>)"
      ]
     },
     "execution_count": 19,
     "metadata": {},
     "output_type": "execute_result"
    },
    {
     "data": {
      "image/png": "[encoded data removed]",
      "text/plain": [
       "<Figure size 432x288 with 1 Axes>"
      ]
     },
     "metadata": {
      "needs_background": "light"
     },
     "output_type": "display_data"
    }
   ],
   "source": [
    "df.公立大學及獨立學院.plot(color='b'),df.公立專科學校.plot(color='r'),df.私立大學及獨立學院.plot(color='g')"
   ]
  },
  {
   "cell_type": "code",
   "execution_count": null,
   "metadata": {},
   "outputs": [],
   "source": []
  }
 ],
 "metadata": {
  "kernelspec": {
   "display_name": "Python 3",
   "language": "python",
   "name": "python3"
  },
  "language_info": {
   "codemirror_mode": {
    "name": "ipython",
    "version": 3
   },
   "file_extension": ".py",
   "mimetype": "text/x-python",
   "name": "python",
   "nbconvert_exporter": "python",
   "pygments_lexer": "ipython3",
   "version": "3.7.3"
  }
 },
 "nbformat": 4,
 "nbformat_minor": 2
}
