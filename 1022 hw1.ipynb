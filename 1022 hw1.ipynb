{
 "cells": [
  {
   "cell_type": "code",
   "execution_count": 1,
   "metadata": {},
   "outputs": [],
   "source": [
    "from ipywidgets import interact"
   ]
  },
  {
   "cell_type": "code",
   "execution_count": 3,
   "metadata": {},
   "outputs": [],
   "source": [
    "def f(熱量):\n",
    "    print(熱量)"
   ]
  },
  {
   "cell_type": "code",
   "execution_count": 5,
   "metadata": {},
   "outputs": [
    {
     "name": "stdout",
     "output_type": "stream",
     "text": [
      "水果熱量查詢\n"
     ]
    },
    {
     "data": {
      "application/vnd.jupyter.widget-view+json": {
       "model_id": "23873c911214430ba385214e702e6a5a",
       "version_major": 2,
       "version_minor": 0
      },
      "text/plain": [
       "interactive(children=(Dropdown(description='熱量', options={'聖女小蕃茄': '3(大卡)／個', '小草莓': '4(大卡)／個', '葡萄': '5(大卡)／個…"
      ]
     },
     "metadata": {},
     "output_type": "display_data"
    },
    {
     "data": {
      "text/plain": [
       "<function __main__.f(熱量)>"
      ]
     },
     "execution_count": 5,
     "metadata": {},
     "output_type": "execute_result"
    }
   ],
   "source": [
    "print(\"水果熱量查詢\")\n",
    "interact(f,熱量=dict(聖女小蕃茄=(\"3(大卡)／個\"),\n",
    "                  小草莓=(\"4(大卡)／個\"),\n",
    "                  葡萄=(\"5(大卡)／個\"),\n",
    "                  龍眼=(\"5(大卡)／個\"),\n",
    "                  櫻桃=(\"7(大卡)／個\"),\n",
    "                  蓮霧=(\"30(大卡)／個\"),\n",
    "                  芒果=(\"40(大卡)／個\"),\n",
    "                  奇異果=(\"40(大卡)／個\"),\n",
    "                  蘋果=(\"60(大卡)／個\"),\n",
    "                  水蜜桃=(\"60(大卡)／個\"),\n",
    "                  葡萄柚=(\"75(大卡)／個\"),\n",
    "                  水梨=(\"75(大卡)／個\"),\n",
    "                  香瓜=(\"89(大卡)／個\"),\n",
    "                  香蕉=(\"120(大卡)／個\"),\n",
    "                  泰國芭樂=(\"180(大卡)／個\"),\n",
    "                  木瓜=(\"180(大卡)／個\"),\n",
    "                   哈密瓜=(\"240(大卡)／個\")))"
   ]
  },
  {
   "cell_type": "code",
   "execution_count": null,
   "metadata": {},
   "outputs": [],
   "source": []
  }
 ],
 "metadata": {
  "kernelspec": {
   "display_name": "Python 3",
   "language": "python",
   "name": "python3"
  },
  "language_info": {
   "codemirror_mode": {
    "name": "ipython",
    "version": 3
   },
   "file_extension": ".py",
   "mimetype": "text/x-python",
   "name": "python",
   "nbconvert_exporter": "python",
   "pygments_lexer": "ipython3",
   "version": "3.7.3"
  }
 },
 "nbformat": 4,
 "nbformat_minor": 2
}
