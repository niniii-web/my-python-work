{
 "cells": [
  {
   "cell_type": "markdown",
   "metadata": {},
   "source": [
    "## 作業三 文青機器人"
   ]
  },
  {
   "cell_type": "code",
   "execution_count": 4,
   "metadata": {},
   "outputs": [],
   "source": [
    "%matplotlib inline\n",
    "import numpy as np\n",
    "import matplotlib.pyplot as plt\n",
    "import pandas as pd"
   ]
  },
  {
   "cell_type": "code",
   "execution_count": 5,
   "metadata": {},
   "outputs": [],
   "source": [
    "from numpy.random import randint"
   ]
  },
  {
   "cell_type": "code",
   "execution_count": 6,
   "metadata": {},
   "outputs": [],
   "source": [
    "words='''\n",
    "我\n",
    "我的\n",
    "你\n",
    "雨\n",
    "陽光\n",
    "玫瑰\n",
    "刺\n",
    "等待\n",
    "天空\n",
    "毀\n",
    "妳\n",
    "說\n",
    "不懂\n",
    "為何\n",
    "在這時\n",
    "牽手\n",
    "曬乾\n",
    "沉默\n",
    "衝動\n",
    "就算\n",
    "錯過\n",
    "夢\n",
    "迷路\n",
    "承受\n",
    "最後\n",
    "的\n",
    "出口\n",
    "愛過\n",
    "了\n",
    "才有\n",
    "一首歌\n",
    "時間\n",
    "擁抱\n",
    "變成\n",
    "永遠\n",
    "失眠\n",
    "故事\n",
    "再見\n",
    "劃線\n",
    "勇氣\n",
    "終點\n",
    "'''"
   ]
  },
  {
   "cell_type": "code",
   "execution_count": 7,
   "metadata": {},
   "outputs": [],
   "source": [
    "from numpy.random import choice"
   ]
  },
  {
   "cell_type": "code",
   "execution_count": 8,
   "metadata": {},
   "outputs": [
    {
     "data": {
      "text/plain": [
       "'\\n我\\n我的\\n你\\n雨\\n陽光\\n玫瑰\\n刺\\n等待\\n天空\\n毀\\n妳\\n說\\n不懂\\n為何\\n在這時\\n牽手\\n曬乾\\n沉默\\n衝動\\n就算\\n錯過\\n夢\\n迷路\\n承受\\n最後\\n的\\n出口\\n愛過\\n了\\n才有\\n一首歌\\n時間\\n擁抱\\n變成\\n永遠\\n失眠\\n故事\\n再見\\n劃線\\n勇氣\\n終點\\n'"
      ]
     },
     "execution_count": 8,
     "metadata": {},
     "output_type": "execute_result"
    }
   ],
   "source": [
    "words"
   ]
  },
  {
   "cell_type": "code",
   "execution_count": 9,
   "metadata": {},
   "outputs": [],
   "source": [
    "phrase=words.split('\\n')"
   ]
  },
  {
   "cell_type": "code",
   "execution_count": 15,
   "metadata": {},
   "outputs": [],
   "source": [
    "II=randint(5,8)\n",
    "p=choice(phrase,II)"
   ]
  },
  {
   "cell_type": "code",
   "execution_count": 16,
   "metadata": {},
   "outputs": [
    {
     "name": "stdout",
     "output_type": "stream",
     "text": [
      "曬乾 了 沉默 雨 才有\n",
      "為何 沉默  陽光 說\n",
      "陽光 我的  就算 再見 毀 不懂\n",
      "變成 出口 變成 就算 你 等待 \n",
      "夢 說 失眠 擁抱 陽光 擁抱\n",
      "就算 一首歌 迷路 說 夢 天空 勇氣\n"
     ]
    }
   ],
   "source": [
    "n=randint(4,7)\n",
    "for i in range(n):\n",
    "    k=randint(5,8)\n",
    "    p=choice(phrase,k)\n",
    "    poet=' '.join(p)\n",
    "    print(poet)"
   ]
  },
  {
   "cell_type": "code",
   "execution_count": null,
   "metadata": {},
   "outputs": [],
   "source": []
  },
  {
   "cell_type": "code",
   "execution_count": null,
   "metadata": {},
   "outputs": [],
   "source": []
  },
  {
   "cell_type": "markdown",
   "metadata": {},
   "source": [
    "## 作業四 簡易外幣轉換"
   ]
  },
  {
   "cell_type": "code",
   "execution_count": 17,
   "metadata": {},
   "outputs": [
    {
     "name": "stdout",
     "output_type": "stream",
     "text": [
      "簡易外幣轉換\n",
      "欲查詢新台幣金額(元)400\n",
      "選擇欲轉換幣值(美金：1,英鎊：2,人民幣：3,日幣：4,韓元：5)：4\n",
      "115.6元\n"
     ]
    }
   ],
   "source": [
    "print(\"簡易外幣轉換\")\n",
    "while(True):\n",
    "    intra=input(\"欲查詢新台幣金額(元)\")\n",
    "    extra=input(\"選擇欲轉換幣值(美金：1,英鎊：2,人民幣：3,日幣：4,韓元：5)：\")\n",
    "    a=int(intra)\n",
    "    b=int(extra)\n",
    "    d=a*30.88\n",
    "    e=a*38.05\n",
    "    f=a*4.34\n",
    "    g=a*0.289\n",
    "    h=a*0.028\n",
    "    \n",
    "    if b==1:\n",
    "        print(str(d)+\"元\")\n",
    "    if b==2:\n",
    "        print(str(e)+\"元\")\n",
    "    if b==3:\n",
    "        print(str(f)+\"元\")\n",
    "    if b==4:\n",
    "        print(str(g)+\"元\")\n",
    "    if b==5:\n",
    "        print(str(h)+\"元\")\n",
    "    else:\n",
    "        break\n",
    "    "
   ]
  },
  {
   "cell_type": "code",
   "execution_count": null,
   "metadata": {},
   "outputs": [],
   "source": []
  }
 ],
 "metadata": {
  "kernelspec": {
   "display_name": "Python 3",
   "language": "python",
   "name": "python3"
  },
  "language_info": {
   "codemirror_mode": {
    "name": "ipython",
    "version": 3
   },
   "file_extension": ".py",
   "mimetype": "text/x-python",
   "name": "python",
   "nbconvert_exporter": "python",
   "pygments_lexer": "ipython3",
   "version": "3.7.3"
  }
 },
 "nbformat": 4,
 "nbformat_minor": 2
}
