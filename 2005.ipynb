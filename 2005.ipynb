{
 "cells": [
  {
   "cell_type": "code",
   "execution_count": 1,
   "metadata": {},
   "outputs": [],
   "source": [
    "%matplotlib inline\n",
    "\n",
    "import numpy as np\n",
    "import pandas as pd\n",
    "import matplotlib.pyplot as plt"
   ]
  },
  {
   "cell_type": "code",
   "execution_count": null,
   "metadata": {},
   "outputs": [
    {
     "name": "stdout",
     "output_type": "stream",
     "text": [
      "請輸入您的使用者名稱： nini\n",
      "請輸入密碼: 00000\n",
      "輸入錯誤，請重新輸入\n",
      "請輸入您的使用者名稱： 8110201\n",
      "請輸入密碼: 999\n",
      "輸入錯誤，請重新輸入\n"
     ]
    }
   ],
   "source": [
    "a = 0\n",
    "while a < 3:\n",
    "    username = input(\"請輸入您的使用者名稱： \")\n",
    "    password = input(\"請輸入密碼: \")\n",
    "    a = a + 1\n",
    "    if username == 'login' and password == '8110201':\n",
    "        print(\"登入中，請稍候\")\n",
    "    else:\n",
    "        print(\"輸入錯誤，請重新輸入\")"
   ]
  },
  {
   "cell_type": "code",
   "execution_count": null,
   "metadata": {},
   "outputs": [],
   "source": []
  }
 ],
 "metadata": {
  "kernelspec": {
   "display_name": "Python 3",
   "language": "python",
   "name": "python3"
  },
  "language_info": {
   "codemirror_mode": {
    "name": "ipython",
    "version": 3
   },
   "file_extension": ".py",
   "mimetype": "text/x-python",
   "name": "python",
   "nbconvert_exporter": "python",
   "pygments_lexer": "ipython3",
   "version": "3.7.3"
  }
 },
 "nbformat": 4,
 "nbformat_minor": 2
}
