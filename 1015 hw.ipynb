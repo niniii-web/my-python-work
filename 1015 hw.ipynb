{
 "cells": [
  {
   "cell_type": "markdown",
   "metadata": {},
   "source": [
    "## 作業一 月曆查詢小幫手"
   ]
  },
  {
   "cell_type": "code",
   "execution_count": 3,
   "metadata": {},
   "outputs": [],
   "source": [
    "%matplotlib inline\n",
    "import numpy as np\n",
    "import matplotlib.pyplot as plt\n",
    "import pandas as pd"
   ]
  },
  {
   "cell_type": "code",
   "execution_count": 2,
   "metadata": {},
   "outputs": [],
   "source": [
    "import calendar"
   ]
  },
  {
   "cell_type": "code",
   "execution_count": 3,
   "metadata": {},
   "outputs": [
    {
     "name": "stdout",
     "output_type": "stream",
     "text": [
      "輸入欲查詢的年份2019\n",
      "輸入欲查詢的月份10\n",
      "以下输出2019年10月份的日历:\n",
      "    October 2019\n",
      "Mo Tu We Th Fr Sa Su\n",
      "    1  2  3  4  5  6\n",
      " 7  8  9 10 11 12 13\n",
      "14 15 16 17 18 19 20\n",
      "21 22 23 24 25 26 27\n",
      "28 29 30 31\n",
      "\n"
     ]
    }
   ],
   "source": [
    "yy=input(\"輸入欲查詢的年份\")\n",
    "a=int(yy)\n",
    "mm=input(\"輸入欲查詢的月份\")\n",
    "b=int(mm)\n",
    "\n",
    "\n",
    "\n",
    "cal = calendar.month(a, b)\n",
    "print (\"以下输出\"+str(a)+\"年\"+str(b)+\"月份的日历:\")\n",
    "print (cal)"
   ]
  },
  {
   "cell_type": "markdown",
   "metadata": {},
   "source": [
    "## 作業二 聖誕樹"
   ]
  },
  {
   "cell_type": "code",
   "execution_count": 4,
   "metadata": {},
   "outputs": [],
   "source": [
    "height = 6"
   ]
  },
  {
   "cell_type": "code",
   "execution_count": 5,
   "metadata": {},
   "outputs": [],
   "source": [
    "stars = 1"
   ]
  },
  {
   "cell_type": "code",
   "execution_count": 6,
   "metadata": {},
   "outputs": [
    {
     "name": "stdout",
     "output_type": "stream",
     "text": [
      "      *\n",
      "     ***\n",
      "    *****\n",
      "   *******\n",
      "  *********\n",
      " ***********\n",
      "      |\n"
     ]
    }
   ],
   "source": [
    "for i in range(height):\n",
    "    print((' ' * (height - i)) + ('*' * stars))\n",
    "    stars += 2\n",
    "print((' ' * height) + '|')    "
   ]
  },
  {
   "cell_type": "markdown",
   "metadata": {},
   "source": [
    "## 作業三 猜數字"
   ]
  },
  {
   "cell_type": "code",
   "execution_count": 10,
   "metadata": {},
   "outputs": [],
   "source": [
    "import random "
   ]
  },
  {
   "cell_type": "code",
   "execution_count": 13,
   "metadata": {},
   "outputs": [
    {
     "name": "stdout",
     "output_type": "stream",
     "text": [
      "在1到200猜個數字吧(*´∀`)~♥\n",
      "猜猜看(ゝ∀･)：56\n",
      "再低一點ㄛ(ㆆᴗㆆ)\n",
      "在1到200猜個數字吧(*´∀`)~♥\n",
      "猜猜看(ゝ∀･)：34\n",
      "再高一點ㄛ(๑•́ ₃ •̀๑)\n",
      "在1到200猜個數字吧(*´∀`)~♥\n",
      "猜猜看(ゝ∀･)：45\n",
      "再高一點ㄛ(๑•́ ₃ •̀๑)\n",
      "在1到200猜個數字吧(*´∀`)~♥\n",
      "猜猜看(ゝ∀･)：50\n",
      "再低一點ㄛ(ㆆᴗㆆ)\n",
      "在1到200猜個數字吧(*´∀`)~♥\n",
      "猜猜看(ゝ∀･)：47\n",
      "再高一點ㄛ(๑•́ ₃ •̀๑)\n",
      "在1到200猜個數字吧(*´∀`)~♥\n",
      "猜猜看(ゝ∀･)：48\n",
      "答對了｡◕∀◕｡\n"
     ]
    }
   ],
   "source": [
    "num=np.random.randint(1,201,1)\n",
    "while True :\n",
    "    print(\"在1到200猜個數字吧(*´∀`)~♥\")\n",
    "    b=input(\"猜猜看(ゝ∀･)：\")\n",
    "    b=int(b)\n",
    "    if  num <b:\n",
    "        print(\"再低一點ㄛ(ㆆᴗㆆ)\")     \n",
    "    elif num >b:\n",
    "        print(\"再高一點ㄛ(๑•́ ₃ •̀๑)\")\n",
    "    else:\n",
    "        print(\"答對了｡◕∀◕｡\")\n",
    "        break\n"
   ]
  },
  {
   "cell_type": "markdown",
   "metadata": {},
   "source": [
    "## 作業四 星座查詢ヽ(✿ﾟ▽ﾟ)ノ"
   ]
  },
  {
   "cell_type": "code",
   "execution_count": 22,
   "metadata": {},
   "outputs": [],
   "source": [
    "from ipywidgets import interact"
   ]
  },
  {
   "cell_type": "code",
   "execution_count": 23,
   "metadata": {},
   "outputs": [],
   "source": [
    "def f(星座):\n",
    "    print(星座)"
   ]
  },
  {
   "cell_type": "code",
   "execution_count": 30,
   "metadata": {},
   "outputs": [
    {
     "name": "stdout",
     "output_type": "stream",
     "text": [
      "星座查詢ヽ(✿ﾟ▽ﾟ)ノ\n"
     ]
    },
    {
     "data": {
      "application/vnd.jupyter.widget-view+json": {
       "model_id": "e72b0eca686549cf9a6005e937106cfe",
       "version_major": 2,
       "version_minor": 0
      },
      "text/plain": [
       "interactive(children=(Dropdown(description='星座', options={'一月22日至2月19日': '水瓶座', '二月20日至3月20日': '雙魚座', '三月21日至4…"
      ]
     },
     "metadata": {},
     "output_type": "display_data"
    },
    {
     "data": {
      "text/plain": [
       "<function __main__.f(星座)>"
      ]
     },
     "execution_count": 30,
     "metadata": {},
     "output_type": "execute_result"
    }
   ],
   "source": [
    "print(\"星座查詢ヽ(✿ﾟ▽ﾟ)ノ\")\n",
    "interact(f,星座=dict (一月22日至2月19日=(\"水瓶座\"),\n",
    "                  二月20日至3月20日=(\"雙魚座\"),\n",
    "                  三月21日至4月20日=(\"牡羊座\"),\n",
    "                  四月21日至5月20日=(\"金牛座\"),\n",
    "                  五月21日至6月20日=(\"雙子座\"),\n",
    "                  六月21日至7月22日=(\"巨蟹座\"),\n",
    "                  七月23日至8月22日=(\"獅子座\"),\n",
    "                  八月23日至9月22日=(\"處女座\"),\n",
    "                  九月23日至10月22日=(\"天秤座\"),\n",
    "                  十月23日至11月22日=(\"天蠍座\"),\n",
    "                  十一月23日至12月22日=(\"射手座\"),\n",
    "                  十二月23日至1月21日=(\"摩羯座\")))"
   ]
  },
  {
   "cell_type": "code",
   "execution_count": null,
   "metadata": {},
   "outputs": [],
   "source": []
  }
 ],
 "metadata": {
  "kernelspec": {
   "display_name": "Python 3",
   "language": "python",
   "name": "python3"
  },
  "language_info": {
   "codemirror_mode": {
    "name": "ipython",
    "version": 3
   },
   "file_extension": ".py",
   "mimetype": "text/x-python",
   "name": "python",
   "nbconvert_exporter": "python",
   "pygments_lexer": "ipython3",
   "version": "3.7.3"
  }
 },
 "nbformat": 4,
 "nbformat_minor": 2
}
