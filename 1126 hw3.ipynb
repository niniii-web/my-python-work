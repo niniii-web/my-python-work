{
 "cells": [
  {
   "cell_type": "markdown",
   "metadata": {},
   "source": [
    "### 九九乘法表"
   ]
  },
  {
   "cell_type": "code",
   "execution_count": 1,
   "metadata": {},
   "outputs": [],
   "source": [
    "%matplotlib inline\n",
    "import numpy as np\n",
    "import matplotlib.pyplot as plt\n",
    "import pandas as pd"
   ]
  },
  {
   "cell_type": "code",
   "execution_count": 4,
   "metadata": {},
   "outputs": [
    {
     "name": "stdout",
     "output_type": "stream",
     "text": [
      "1x1=1\t\t1x2=2\t\t1x3=3\t\t1x4=4\t\t1x5=5\t\t1x6=6\t\t1x7=7\t\t1x8=8\t\t1x9=9\t\t2x1=2\t\t2x2=4\t\t2x3=6\t\t2x4=8\t\t2x5=10\t\t2x6=12\t\t2x7=14\t\t2x8=16\t\t2x9=18\t\t3x1=3\t\t3x2=6\t\t3x3=9\t\t3x4=12\t\t3x5=15\t\t3x6=18\t\t3x7=21\t\t3x8=24\t\t3x9=27\t\t4x1=4\t\t4x2=8\t\t4x3=12\t\t4x4=16\t\t4x5=20\t\t4x6=24\t\t4x7=28\t\t4x8=32\t\t4x9=36\t\t5x1=5\t\t5x2=10\t\t5x3=15\t\t5x4=20\t\t5x5=25\t\t5x6=30\t\t5x7=35\t\t5x8=40\t\t5x9=45\t\t6x1=6\t\t6x2=12\t\t6x3=18\t\t6x4=24\t\t6x5=30\t\t6x6=36\t\t6x7=42\t\t6x8=48\t\t6x9=54\t\t7x1=7\t\t7x2=14\t\t7x3=21\t\t7x4=28\t\t7x5=35\t\t7x6=42\t\t7x7=49\t\t7x8=56\t\t7x9=63\t\t8x1=8\t\t8x2=16\t\t8x3=24\t\t8x4=32\t\t8x5=40\t\t8x6=48\t\t8x7=56\t\t8x8=64\t\t8x9=72\t\t9x1=9\t\t9x2=18\t\t9x3=27\t\t9x4=36\t\t9x5=45\t\t9x6=54\t\t9x7=63\t\t9x8=72\t\t9x9=81\t\t"
     ]
    }
   ],
   "source": [
    "for i in range(1, 10):\n",
    "    for s in range(1, 10):\n",
    "        e=i*s\n",
    "        print(\"{}x{}={}\\t\".format(i,s,e),end=\"\\t\")"
   ]
  },
  {
   "cell_type": "code",
   "execution_count": null,
   "metadata": {},
   "outputs": [],
   "source": []
  }
 ],
 "metadata": {
  "kernelspec": {
   "display_name": "Python 3",
   "language": "python",
   "name": "python3"
  },
  "language_info": {
   "codemirror_mode": {
    "name": "ipython",
    "version": 3
   },
   "file_extension": ".py",
   "mimetype": "text/x-python",
   "name": "python",
   "nbconvert_exporter": "python",
   "pygments_lexer": "ipython3",
   "version": "3.7.3"
  }
 },
 "nbformat": 4,
 "nbformat_minor": 2
}
