{
 "cells": [
  {
   "cell_type": "markdown",
   "metadata": {},
   "source": [
    "### 作業五 身體檢測"
   ]
  },
  {
   "cell_type": "code",
   "execution_count": 1,
   "metadata": {},
   "outputs": [],
   "source": [
    "%matplotlib inline\n",
    "\n",
    "import numpy as np\n",
    "import matplotlib.pyplot as plt\n",
    "import pandas as pd"
   ]
  },
  {
   "cell_type": "code",
   "execution_count": 2,
   "metadata": {},
   "outputs": [
    {
     "name": "stdout",
     "output_type": "stream",
     "text": [
      "體重47\n",
      "身高(m)160\n",
      "太瘦了 要多吃一點ㄛ\n"
     ]
    }
   ],
   "source": [
    "kg=float(input(\"體重\"))\n",
    "h=float(input(\"身高(m)\"))\n",
    "BMI=kg/h**2\n",
    "if BMI<18:\n",
    "    print(\"太瘦了 要多吃一點ㄛ\")\n",
    "elif 18<=BMI<24:\n",
    "    print(\"正常ε٩(๑> ₃ <)۶з\")\n",
    "else:\n",
    "    print(\"嗚嗚超重啦 要注意飲食ㄛ\")"
   ]
  },
  {
   "cell_type": "code",
   "execution_count": null,
   "metadata": {},
   "outputs": [],
   "source": []
  }
 ],
 "metadata": {
  "kernelspec": {
   "display_name": "Python 3",
   "language": "python",
   "name": "python3"
  },
  "language_info": {
   "codemirror_mode": {
    "name": "ipython",
    "version": 3
   },
   "file_extension": ".py",
   "mimetype": "text/x-python",
   "name": "python",
   "nbconvert_exporter": "python",
   "pygments_lexer": "ipython3",
   "version": "3.7.3"
  }
 },
 "nbformat": 4,
 "nbformat_minor": 2
}
