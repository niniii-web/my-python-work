{
 "cells": [
  {
   "cell_type": "code",
   "execution_count": 1,
   "metadata": {},
   "outputs": [],
   "source": [
    "%matplotlib inline\n",
    "import numpy as np\n",
    "import matplotlib.pyplot as plt\n",
    "import pandas as pd"
   ]
  },
  {
   "cell_type": "markdown",
   "metadata": {},
   "source": [
    "### 發票對獎"
   ]
  },
  {
   "cell_type": "code",
   "execution_count": 2,
   "metadata": {},
   "outputs": [
    {
     "name": "stdout",
     "output_type": "stream",
     "text": [
      "中獎號碼為？  23415093\n",
      "【開始對獎】\n",
      "輸入後三碼(按x離開)：  345\n",
      "沒有中喔!\n",
      "輸入後三碼(按x離開)：  111\n",
      "沒有中喔!\n",
      "輸入後三碼(按x離開)：  093\n",
      "有機會喔!請輸入完整號碼：25671093\n",
      "沒中\n",
      "輸入後三碼(按x離開)：  x\n"
     ]
    }
   ],
   "source": [
    "prizes = []\n",
    "\n",
    "pri = input(\"中獎號碼為？  \")\n",
    "\n",
    "print('【開始對獎】')\n",
    "while True:\n",
    "    num = input(\"輸入後三碼(按x離開)：  \")\n",
    "\n",
    "    if num == 'x':\n",
    "        break\n",
    "            \n",
    "    elif num == pri[-3:]:\n",
    "        full = input(\"有機會喔!請輸入完整號碼：\")\n",
    "        if full == pri:\n",
    "            print(\"中獎了!!!!!\")\n",
    "        else:\n",
    "            print(\"沒中\")\n",
    "\n",
    "    \n",
    "    else:\n",
    "        print('沒有中喔!')"
   ]
  },
  {
   "cell_type": "code",
   "execution_count": null,
   "metadata": {},
   "outputs": [],
   "source": []
  }
 ],
 "metadata": {
  "kernelspec": {
   "display_name": "Python 3",
   "language": "python",
   "name": "python3"
  },
  "language_info": {
   "codemirror_mode": {
    "name": "ipython",
    "version": 3
   },
   "file_extension": ".py",
   "mimetype": "text/x-python",
   "name": "python",
   "nbconvert_exporter": "python",
   "pygments_lexer": "ipython3",
   "version": "3.7.3"
  }
 },
 "nbformat": 4,
 "nbformat_minor": 2
}
