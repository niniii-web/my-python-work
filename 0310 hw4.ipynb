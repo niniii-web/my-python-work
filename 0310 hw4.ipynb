{
 "cells": [
  {
   "cell_type": "markdown",
   "metadata": {},
   "source": [
    "### 作業四 簡易記帳小機器"
   ]
  },
  {
   "cell_type": "code",
   "execution_count": 1,
   "metadata": {},
   "outputs": [],
   "source": [
    "%matplotlib inline\n",
    "\n",
    "import numpy as np\n",
    "import matplotlib.pyplot as plt\n",
    "import pandas as pd"
   ]
  },
  {
   "cell_type": "code",
   "execution_count": 2,
   "metadata": {},
   "outputs": [
    {
     "name": "stdout",
     "output_type": "stream",
     "text": [
      "請輸入今天各項花費金額\n",
      "交通：30\n",
      "餐飲：148\n",
      "娛樂：499\n",
      "購物：0\n",
      "教育：650\n",
      "其他：0\n",
      "今日總花費：1327.0\n"
     ]
    }
   ],
   "source": [
    "print(\"請輸入今天各項花費金額\")\n",
    "a=input(\"交通：\")\n",
    "b=input(\"餐飲：\")\n",
    "c=input(\"娛樂：\")\n",
    "d=input(\"購物：\")\n",
    "e=input(\"教育：\")\n",
    "f=input(\"其他：\")\n",
    "total=float (a)+float (b)+float (c)+float (d)+float (e)+float (f)\n",
    "\n",
    "print(\"今日總花費：\"+str(total))"
   ]
  },
  {
   "cell_type": "code",
   "execution_count": null,
   "metadata": {},
   "outputs": [],
   "source": []
  }
 ],
 "metadata": {
  "kernelspec": {
   "display_name": "Python 3",
   "language": "python",
   "name": "python3"
  },
  "language_info": {
   "codemirror_mode": {
    "name": "ipython",
    "version": 3
   },
   "file_extension": ".py",
   "mimetype": "text/x-python",
   "name": "python",
   "nbconvert_exporter": "python",
   "pygments_lexer": "ipython3",
   "version": "3.7.3"
  }
 },
 "nbformat": 4,
 "nbformat_minor": 2
}
