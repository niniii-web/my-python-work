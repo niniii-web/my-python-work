{
 "cells": [
  {
   "cell_type": "code",
   "execution_count": 1,
   "metadata": {},
   "outputs": [],
   "source": [
    "from numpy.random import randint"
   ]
  },
  {
   "cell_type": "code",
   "execution_count": 2,
   "metadata": {},
   "outputs": [],
   "source": [
    "words='''我\n",
    "我的\n",
    "你\n",
    "雨\n",
    "陽光\n",
    "玫瑰\n",
    "刺\n",
    "等待\n",
    "天空\n",
    "毀\n",
    "妳\n",
    "說\n",
    "不懂\n",
    "為何\n",
    "在這時\n",
    "牽手\n",
    "曬乾\n",
    "沉默\n",
    "衝動\n",
    "就算\n",
    "錯過'''"
   ]
  },
  {
   "cell_type": "code",
   "execution_count": 3,
   "metadata": {},
   "outputs": [],
   "source": [
    "phrase=words.split('\\n')\n",
    "from numpy.random import choice"
   ]
  },
  {
   "cell_type": "code",
   "execution_count": 4,
   "metadata": {},
   "outputs": [
    {
     "name": "stdout",
     "output_type": "stream",
     "text": [
      "為何 毀 在這時 曬乾 玫瑰 在這時 衝動\n",
      "錯過 陽光 就算 就算 刺 雨\n",
      "為何 天空 陽光 錯過 牽手\n",
      "妳 妳 沉默 在這時 陽光 毀\n",
      "雨 等待 衝動 天空 我\n"
     ]
    }
   ],
   "source": [
    "n=randint(3,6)\n",
    "for i in range(n):\n",
    "    k=randint(5,8)\n",
    "    egg=choice(phrase,k)\n",
    "    ham=' '.join(egg)\n",
    "    print(ham)"
   ]
  },
  {
   "cell_type": "code",
   "execution_count": 5,
   "metadata": {},
   "outputs": [
    {
     "name": "stdout",
     "output_type": "stream",
     "text": [
      "The following commands were written to file `poem.py`:\n",
      "from numpy.random import randint\n",
      "words='''我\n",
      "我的\n",
      "你\n",
      "雨\n",
      "陽光\n",
      "玫瑰\n",
      "刺\n",
      "等待\n",
      "天空\n",
      "毀\n",
      "妳\n",
      "說\n",
      "不懂\n",
      "為何\n",
      "在這時\n",
      "牽手\n",
      "曬乾\n",
      "沉默\n",
      "衝動\n",
      "就算\n",
      "錯過'''\n",
      "phrase=words.split('\\n')\n",
      "from numpy.random import choice\n",
      "n=randint(3,6)\n",
      "for i in range(n):\n",
      "    k=randint(5,8)\n",
      "    egg=choice(phrase,k)\n",
      "    ham=' '.join(egg)\n",
      "    print(ham)\n"
     ]
    }
   ],
   "source": [
    "%save \"poem.py\" 1 2 3 4"
   ]
  },
  {
   "cell_type": "code",
   "execution_count": null,
   "metadata": {},
   "outputs": [],
   "source": []
  }
 ],
 "metadata": {
  "kernelspec": {
   "display_name": "Python 3",
   "language": "python",
   "name": "python3"
  },
  "language_info": {
   "codemirror_mode": {
    "name": "ipython",
    "version": 3
   },
   "file_extension": ".py",
   "mimetype": "text/x-python",
   "name": "python",
   "nbconvert_exporter": "python",
   "pygments_lexer": "ipython3",
   "version": "3.7.3"
  }
 },
 "nbformat": 4,
 "nbformat_minor": 2
}
