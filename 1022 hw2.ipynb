{
 "cells": [
  {
   "cell_type": "code",
   "execution_count": 5,
   "metadata": {},
   "outputs": [],
   "source": [
    "%matplotlib inline\n",
    "\n",
    "import numpy as np\n",
    "import matplotlib.pyplot as plt\n",
    "import pandas as pd"
   ]
  },
  {
   "cell_type": "code",
   "execution_count": 6,
   "metadata": {},
   "outputs": [
    {
     "name": "stdout",
     "output_type": "stream",
     "text": [
      "請輸入今天各項花費金額\n",
      "交通：50\n",
      "餐飲：304\n",
      "娛樂：200\n",
      "購物：7713\n",
      "教育：0\n",
      "其他：0\n",
      "今日總花費：8267.0\n"
     ]
    }
   ],
   "source": [
    "print(\"請輸入今天各項花費金額\")\n",
    "a=input(\"交通：\")\n",
    "b=input(\"餐飲：\")\n",
    "c=input(\"娛樂：\")\n",
    "d=input(\"購物：\")\n",
    "e=input(\"教育：\")\n",
    "f=input(\"其他：\")\n",
    "total=float (a)+float (b)+float (c)+float (d)+float (e)+float (f)\n",
    "\n",
    "print(\"今日總花費：\"+str(total))"
   ]
  },
  {
   "cell_type": "code",
   "execution_count": null,
   "metadata": {},
   "outputs": [],
   "source": []
  }
 ],
 "metadata": {
  "kernelspec": {
   "display_name": "Python 3",
   "language": "python",
   "name": "python3"
  },
  "language_info": {
   "codemirror_mode": {
    "name": "ipython",
    "version": 3
   },
   "file_extension": ".py",
   "mimetype": "text/x-python",
   "name": "python",
   "nbconvert_exporter": "python",
   "pygments_lexer": "ipython3",
   "version": "3.7.3"
  }
 },
 "nbformat": 4,
 "nbformat_minor": 2
}
