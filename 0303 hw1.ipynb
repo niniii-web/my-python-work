{
 "cells": [
  {
   "cell_type": "markdown",
   "metadata": {},
   "source": [
    "### 作業一 簡易外幣轉換"
   ]
  },
  {
   "cell_type": "code",
   "execution_count": 4,
   "metadata": {},
   "outputs": [],
   "source": [
    "%matplotlib inline\n",
    "import numpy as np\n",
    "import matplotlib.pyplot as plt\n",
    "import pandas as pd"
   ]
  },
  {
   "cell_type": "code",
   "execution_count": 5,
   "metadata": {},
   "outputs": [
    {
     "name": "stdout",
     "output_type": "stream",
     "text": [
      "簡易外幣轉換\n",
      "欲查詢新台幣金額(元)2\n",
      "選擇欲轉換幣值(美金：1,英鎊：2,人民幣：3,日幣：4,韓元：5)：4\n",
      "0.578元\n"
     ]
    }
   ],
   "source": [
    "print(\"簡易外幣轉換\")\n",
    "while(True):\n",
    "    intra=input(\"欲查詢新台幣金額(元)\")\n",
    "    extra=input(\"選擇欲轉換幣值(美金：1,英鎊：2,人民幣：3,日幣：4,韓元：5)：\")\n",
    "    a=int(intra)\n",
    "    b=int(extra)\n",
    "    d=a*30.88\n",
    "    e=a*38.05\n",
    "    f=a*4.34\n",
    "    g=a*0.289\n",
    "    h=a*0.028\n",
    "    \n",
    "    if b==1:\n",
    "        print(str(d)+\"元\")\n",
    "    if b==2:\n",
    "        print(str(e)+\"元\")\n",
    "    if b==3:\n",
    "        print(str(f)+\"元\")\n",
    "    if b==4:\n",
    "        print(str(g)+\"元\")\n",
    "    if b==5:\n",
    "        print(str(h)+\"元\")\n",
    "    else:\n",
    "        break\n",
    "    "
   ]
  },
  {
   "cell_type": "code",
   "execution_count": null,
   "metadata": {},
   "outputs": [],
   "source": []
  }
 ],
 "metadata": {
  "kernelspec": {
   "display_name": "Python 3",
   "language": "python",
   "name": "python3"
  },
  "language_info": {
   "codemirror_mode": {
    "name": "ipython",
    "version": 3
   },
   "file_extension": ".py",
   "mimetype": "text/x-python",
   "name": "python",
   "nbconvert_exporter": "python",
   "pygments_lexer": "ipython3",
   "version": "3.7.3"
  }
 },
 "nbformat": 4,
 "nbformat_minor": 2
}
